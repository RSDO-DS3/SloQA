{
 "cells": [
  {
   "cell_type": "code",
   "execution_count": null,
   "id": "10e83225",
   "metadata": {},
   "outputs": [],
   "source": [
    "!pip install transformers --quiet"
   ]
  },
  {
   "cell_type": "markdown",
   "id": "42a36601",
   "metadata": {},
   "source": [
    "# Demo"
   ]
  },
  {
   "cell_type": "code",
   "execution_count": 2,
   "id": "c8badbe9",
   "metadata": {},
   "outputs": [],
   "source": [
    "from transformers import pipeline, AutoModelForQuestionAnswering, AutoTokenizer\n",
    "\n",
    "# model\n",
    "#model_name = './models/bert-slo-squad_v2' # BERT-base\n",
    "#model_name = './models/bert-tiny-slo-squad_v2' # BERT-tiny\n",
    "#model_name = './models/roberta-base-slo-squad_v2' # RoBERTa-base\n",
    "#model_name = './models/xlm-roberta-base-slo-squad_v2' #XLM-RoBERTa-base\n",
    "model_name = './models/sloberta-slo-squad_v2' # SloBERTa\n",
    "\n",
    "model = AutoModelForQuestionAnswering.from_pretrained(model_name) \n",
    "tokenizer = AutoTokenizer.from_pretrained(model_name) \n",
    "\n",
    "qa = pipeline('question-answering', model=model.to('cpu'), tokenizer=tokenizer)"
   ]
  },
  {
   "cell_type": "code",
   "execution_count": 19,
   "id": "3b982e0b",
   "metadata": {},
   "outputs": [],
   "source": [
    "context = '''\n",
    "Nasin rover Curiosity je v desetletju, ko je raziskoval rdeči planet, ujel na tisoče\n",
    "fotografij, a ena od njih je trenutno deležna posebne pozornosti, saj se zdi, kot da\n",
    "bi ujela zlovešč vhod v neznano. Fotografija je bila posneta 7. maja, iz Nase pa je\n",
    "še niso komentirali, pišejo pa pri Viceu, da morajo žal razočarati bralce in da skoraj\n",
    "zagotovo to niso vesoljska vrata v podzemno svetišče Marsovcev, ampak je bolj verjetno,\n",
    "da je to manjša skalna formacija naravnega izvora. Curiosity se trenutno vzpenja na Sharp,\n",
    "goro, ki se dviga do višine 5486 metrov od vznožja kraterja Gale, kjer je rover pristal\n",
    "avgusta 2012. Posnetek nenavadne odprtine je nastal na pobočju, imenovanem Greenheugh timpanon,\n",
    "ki je posejan s formacijami, ki spominjajo na luske plazilcev.\n",
    "'''\n",
    "\n"
   ]
  },
  {
   "cell_type": "code",
   "execution_count": 20,
   "id": "9a94abfb",
   "metadata": {},
   "outputs": [
    {
     "data": {
      "text/plain": [
       "{'score': 0.2916065454483032,\n",
       " 'start': 563,\n",
       " 'end': 591,\n",
       " 'answer': ' vznožja kraterja Gale, kjer'}"
      ]
     },
     "execution_count": 20,
     "metadata": {},
     "output_type": "execute_result"
    }
   ],
   "source": [
    "question = 'Kje je pristal rover?'\n",
    "#question = 'Koliko fotografij je ujel rover Curiosity?'\n",
    "#question = 'Kdaj je bila posneta fotografija?'\n",
    "#question = 'Kam se trenutno vzpenja?'\n",
    "#question = 'Kako visoka je gora Sharp?'\n",
    "#question = 'Kako se imenuje pobočje kjer je nastal posnetek?'\n",
    "#question = 'Na kaj spominjajo formacije?'\n",
    "\n",
    "qa(question, context)"
   ]
  },
  {
   "cell_type": "code",
   "execution_count": 21,
   "id": "e09ec396",
   "metadata": {},
   "outputs": [],
   "source": [
    "context = '''Henrik je zavladal po nemirnem obdobju predhodnikov, pod katerimi \n",
    "je nastal in ozemeljsko skoraj izginil Anžujski imperij. Leta 1236 se je poročil \n",
    "z dvanajstletno Eleonoro, ki je bila iz izobražene in kulturi naklonjene \n",
    "provansalske družine. Bila je ena izmed štirih sester, ki so se v 13. stoletju \n",
    "poročile z vplivnimi evropskimi vladarji. Angleški kraljevi par je imel trdno \n",
    "zakonsko zvezo in Eleonora je izpolnila svojo osnovno, glavno vlogo z rojstvom \n",
    "prestolonaslednika. Kot kraljica je dobivala vedno večjo moč. Najprej se je v \n",
    "angleški dvor vmešavala posredno, preko svojih savojskih sorodnikov, ki so \n",
    "pomembno vplivali na Henrikovo vladanje. Nato ji je naklonjenost moža omogočila \n",
    "samostojnejše upravljanje financ in med njegovim posredovanjem v Gaskonji je \n",
    "postala regentka. Podpiranje Savojcev in samostojnejše delovanje sta bila vzrok \n",
    "za njen slab ugled. Nepriljubljenost pri Angležih je dosegla vrhunec leta 1263, \n",
    "ko je prišlo do odmevnega fizičnega napada nanjo.'''\n",
    "\n"
   ]
  },
  {
   "cell_type": "code",
   "execution_count": 22,
   "id": "938bd275",
   "metadata": {},
   "outputs": [
    {
     "data": {
      "text/plain": [
       "{'score': 0.1361975222826004,\n",
       " 'start': 18,\n",
       " 'end': 52,\n",
       " 'answer': ' po nemirnem obdobju predhodnikov,'}"
      ]
     },
     "execution_count": 22,
     "metadata": {},
     "output_type": "execute_result"
    }
   ],
   "source": [
    "question = 'Kdaj je zavladal Henrik?'\n",
    "#question = 'Kateri imperij je skoraj izginil?'\n",
    "#question = 'Katerega leta sta se Henrik in Eleonora poročila?'\n",
    "#question = 'Kakšen zakon sta imela?'\n",
    "#question = 'Koliko sester je imela Eleonora?'\n",
    "#question = 'Kdaj so napadli Elonoro?'\n",
    "\n",
    "qa(question, context)"
   ]
  },
  {
   "cell_type": "code",
   "execution_count": null,
   "id": "5323643a",
   "metadata": {},
   "outputs": [],
   "source": []
  }
 ],
 "metadata": {
  "kernelspec": {
   "display_name": "Python 3",
   "language": "python",
   "name": "python3"
  },
  "language_info": {
   "codemirror_mode": {
    "name": "ipython",
    "version": 3
   },
   "file_extension": ".py",
   "mimetype": "text/x-python",
   "name": "python",
   "nbconvert_exporter": "python",
   "pygments_lexer": "ipython3",
   "version": "3.8.8"
  }
 },
 "nbformat": 4,
 "nbformat_minor": 5
}
